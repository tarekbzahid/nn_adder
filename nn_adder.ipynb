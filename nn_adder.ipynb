{
 "cells": [
  {
   "cell_type": "code",
   "execution_count": 41,
   "metadata": {},
   "outputs": [],
   "source": [
    "# simple linear neural network\n",
    "\n",
    "import random\n",
    "import torch\n",
    "\n",
    "class Adder(torch.nn.Module):\n",
    "    def __init__(self, input_size, hidden_size):\n",
    "        super(Adder, self).__init__()\n",
    "        self.encoder = torch.nn.Linear(input_size * 2, hidden_size)\n",
    "        self.decoder = torch.nn.Linear(hidden_size, 1)\n",
    "\n",
    "    def forward(self, x1, x2):\n",
    "        x1 = x1.reshape(-1, 1)\n",
    "        x2 = x2.reshape(-1, 1)\n",
    "        x = torch.cat([x1, x2], dim=1)\n",
    "        h = torch.relu(self.encoder(x))\n",
    "        y = self.decoder(h)\n",
    "        return y"
   ]
  },
  {
   "cell_type": "code",
   "execution_count": 42,
   "metadata": {},
   "outputs": [
    {
     "name": "stdout",
     "output_type": "stream",
     "text": [
      "----------------------------------------------------------------\n",
      "        Layer (type)               Output Shape         Param #\n",
      "================================================================\n",
      "            Linear-1                   [-1, 10]              30\n",
      "            Linear-2                    [-1, 1]              11\n",
      "================================================================\n",
      "Total params: 41\n",
      "Trainable params: 41\n",
      "Non-trainable params: 0\n",
      "----------------------------------------------------------------\n",
      "Input size (MB): 0.00\n",
      "Forward/backward pass size (MB): 0.00\n",
      "Params size (MB): 0.00\n",
      "Estimated Total Size (MB): 0.00\n",
      "----------------------------------------------------------------\n"
     ]
    }
   ],
   "source": [
    "from torchsummary import summary\n",
    "\n",
    "# Generate a dataset of input-output pairs\n",
    "dataset_size = 1000\n",
    "input_size = 1\n",
    "hidden_size = 10\n",
    "dataset = []\n",
    "for i in range(dataset_size):\n",
    "    x1 = random.uniform(-10, 10)\n",
    "    x2 = random.uniform(-10, 10)\n",
    "    y = x1 + x2\n",
    "    dataset.append((torch.tensor(x1), torch.tensor(x2), torch.tensor(y)))\n",
    "\n",
    "# Split the dataset into training and validation sets\n",
    "train_size = int(0.8 * dataset_size)\n",
    "train_dataset = dataset[:train_size]\n",
    "val_dataset = dataset[train_size:]\n",
    "\n",
    "# Create an instance of the Adder network\n",
    "net = Adder(input_size, hidden_size)\n",
    "summary(net, input_size=[(1,), (1,)])\n",
    "\n",
    "# Define the loss function and the optimizer\n",
    "criterion = torch.nn.MSELoss()\n",
    "optimizer = torch.optim.SGD(net.parameters(), lr=0.001)"
   ]
  },
  {
   "cell_type": "code",
   "execution_count": null,
   "metadata": {},
   "outputs": [],
   "source": [
    "# Train the network on the training set\n",
    "import matplotlib.pyplot as plt\n",
    "\n",
    "num_epochs = 1000\n",
    "for epoch in range(num_epochs):\n",
    "    running_loss = 0.0\n",
    "    for x1, x2, y in train_dataset:\n",
    "        optimizer.zero_grad()\n",
    "        y_pred = net(x1, x2)\n",
    "        loss = criterion(y_pred, y.reshape(-1, 1))\n",
    "        loss.backward()\n",
    "        optimizer.step()\n",
    "        running_loss += loss.item()\n",
    "    train_loss = running_loss / len(train_dataset)\n",
    "\n",
    "    # Evaluate the network on the validation set\n",
    "    running_loss = 0.0\n",
    "    for x1, x2, y in val_dataset:\n",
    "        y_pred = net(x1, x2)\n",
    "        loss = criterion(y_pred, y.reshape(-1, 1))\n",
    "        running_loss += loss.item()\n",
    "    val_loss = running_loss / len(val_dataset)\n",
    "\n",
    "    # Print the loss for this epoch\n",
    "    if epoch % 100 == 99:\n",
    "        print(f\"Epoch {epoch+1}: train_loss={train_loss:.6f}, val_loss={val_loss:.6f}\")"
   ]
  },
  {
   "cell_type": "code",
   "execution_count": 51,
   "metadata": {},
   "outputs": [
    {
     "name": "stdout",
     "output_type": "stream",
     "text": [
      "The sum of 60.0 and 70.0 is: 129.9859161376953\n"
     ]
    }
   ],
   "source": [
    "# Test the network on a new input\n",
    "x1 = float(input(\"Enter the first number: \"))\n",
    "x2 = float(input(\"Enter the second number: \"))\n",
    "final_pred = net(torch.tensor(x1), torch.tensor(x2))\n",
    "print(\"The sum of\", x1, \"and\", x2, \"is:\", final_pred.item())"
   ]
  }
 ],
 "metadata": {
  "kernelspec": {
   "display_name": "Python 3",
   "language": "python",
   "name": "python3"
  },
  "language_info": {
   "codemirror_mode": {
    "name": "ipython",
    "version": 3
   },
   "file_extension": ".py",
   "mimetype": "text/x-python",
   "name": "python",
   "nbconvert_exporter": "python",
   "pygments_lexer": "ipython3",
   "version": "3.11.0"
  },
  "orig_nbformat": 4
 },
 "nbformat": 4,
 "nbformat_minor": 2
}
