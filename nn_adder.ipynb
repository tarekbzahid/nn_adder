{
 "cells": [
  {
   "cell_type": "code",
   "execution_count": 2,
   "metadata": {},
   "outputs": [],
   "source": [
    "# simple linear neural network\n",
    "\n",
    "import random\n",
    "import torch\n",
    "\n",
    "class Adder(torch.nn.Module):\n",
    "    def __init__(self, input_size, hidden_size):\n",
    "        super(Adder, self).__init__()\n",
    "        self.encoder = torch.nn.Linear(input_size * 2, hidden_size)\n",
    "        self.decoder = torch.nn.Linear(hidden_size, 1)\n",
    "\n",
    "    def forward(self, x1, x2):\n",
    "        x1 = x1.reshape(-1, 1)\n",
    "        x2 = x2.reshape(-1, 1)\n",
    "        x = torch.cat([x1, x2], dim=1)\n",
    "        h = torch.relu(self.encoder(x))\n",
    "        y = self.decoder(h)\n",
    "        return y"
   ]
  },
  {
   "cell_type": "code",
   "execution_count": 3,
   "metadata": {},
   "outputs": [
    {
     "name": "stdout",
     "output_type": "stream",
     "text": [
      "----------------------------------------------------------------\n",
      "        Layer (type)               Output Shape         Param #\n",
      "================================================================\n",
      "            Linear-1                   [-1, 10]              30\n",
      "            Linear-2                    [-1, 1]              11\n",
      "================================================================\n",
      "Total params: 41\n",
      "Trainable params: 41\n",
      "Non-trainable params: 0\n",
      "----------------------------------------------------------------\n",
      "Input size (MB): 0.00\n",
      "Forward/backward pass size (MB): 0.00\n",
      "Params size (MB): 0.00\n",
      "Estimated Total Size (MB): 0.00\n",
      "----------------------------------------------------------------\n"
     ]
    }
   ],
   "source": [
    "from torchsummary import summary\n",
    "\n",
    "# Generate a dataset of input-output pairs\n",
    "dataset_size = 1000\n",
    "input_size = 1\n",
    "hidden_size = 10\n",
    "dataset = []\n",
    "for i in range(dataset_size):\n",
    "    x1 = random.uniform(-10, 10)\n",
    "    x2 = random.uniform(-10, 10)\n",
    "    y = x1 + x2\n",
    "    dataset.append((torch.tensor(x1), torch.tensor(x2), torch.tensor(y)))\n",
    "\n",
    "# Split the dataset into training and validation sets\n",
    "train_size = int(0.8 * dataset_size)\n",
    "train_dataset = dataset[:train_size]\n",
    "val_dataset = dataset[train_size:]\n",
    "\n",
    "# Create an instance of the Adder network\n",
    "net = Adder(input_size, hidden_size)\n",
    "summary(net, input_size=[(1,), (1,)])\n",
    "\n",
    "# Define the loss function and the optimizer\n",
    "criterion = torch.nn.MSELoss()\n",
    "optimizer = torch.optim.SGD(net.parameters(), lr=0.001)"
   ]
  },
  {
   "cell_type": "code",
   "execution_count": 4,
   "metadata": {},
   "outputs": [
    {
     "name": "stdout",
     "output_type": "stream",
     "text": [
      "Epoch 100: train_loss=0.000236, val_loss=0.000197\n",
      "Epoch 200: train_loss=0.000078, val_loss=0.000065\n",
      "Epoch 300: train_loss=0.000032, val_loss=0.000027\n",
      "Epoch 400: train_loss=0.000015, val_loss=0.000013\n",
      "Epoch 500: train_loss=0.000007, val_loss=0.000007\n",
      "Epoch 600: train_loss=0.000004, val_loss=0.000004\n",
      "Epoch 700: train_loss=0.000002, val_loss=0.000002\n",
      "Epoch 800: train_loss=0.000001, val_loss=0.000001\n",
      "Epoch 900: train_loss=0.000001, val_loss=0.000001\n",
      "Epoch 1000: train_loss=0.000000, val_loss=0.000000\n"
     ]
    }
   ],
   "source": [
    "# Train the network on the training set\n",
    "import matplotlib.pyplot as plt\n",
    "\n",
    "num_epochs = 1000\n",
    "for epoch in range(num_epochs):\n",
    "    running_loss = 0.0\n",
    "    for x1, x2, y in train_dataset:\n",
    "        optimizer.zero_grad()\n",
    "        y_pred = net(x1, x2)\n",
    "        loss = criterion(y_pred, y.reshape(-1, 1))\n",
    "        loss.backward()\n",
    "        optimizer.step()\n",
    "        running_loss += loss.item()\n",
    "    train_loss = running_loss / len(train_dataset)\n",
    "\n",
    "    # Evaluate the network on the validation set\n",
    "    running_loss = 0.0\n",
    "    for x1, x2, y in val_dataset:\n",
    "        y_pred = net(x1, x2)\n",
    "        loss = criterion(y_pred, y.reshape(-1, 1))\n",
    "        running_loss += loss.item()\n",
    "    val_loss = running_loss / len(val_dataset)\n",
    "\n",
    "    # Print the loss for this epoch\n",
    "    if epoch % 100 == 99:\n",
    "        print(f\"Epoch {epoch+1}: train_loss={train_loss:.6f}, val_loss={val_loss:.6f}\")"
   ]
  },
  {
   "cell_type": "code",
   "execution_count": 7,
   "metadata": {},
   "outputs": [
    {
     "name": "stdout",
     "output_type": "stream",
     "text": [
      "Scripted model saved.\n"
     ]
    }
   ],
   "source": [
    "# Saving the model \n",
    "\n",
    "import torch.jit\n",
    "save_path = '../nn_adder/model_scripted.pt'\n",
    "model_scripted = torch.jit.script(net) # Convert the trained model to a scripted module\n",
    "model_scripted.save(save_path) # Save the scripted model\n",
    "print(\"Scripted model saved.\")"
   ]
  },
  {
   "cell_type": "code",
   "execution_count": 11,
   "metadata": {},
   "outputs": [
    {
     "name": "stdout",
     "output_type": "stream",
     "text": [
      "Predicted sum: 8.000202178955078\n"
     ]
    }
   ],
   "source": [
    "# Loading the model \n",
    "import torch\n",
    "\n",
    "# Load the scripted model\n",
    "loaded_model = torch.jit.load('model_scripted.pt')\n",
    "\n",
    "# Input values for prediction\n",
    "x1 = torch.tensor([3.0])  # Replace with your own input\n",
    "x2 = torch.tensor([5.0])  # Replace with your own input\n",
    "\n",
    "# Make a prediction using the loaded model\n",
    "with torch.no_grad():\n",
    "    y_pred = loaded_model(x1, x2)\n",
    "\n",
    "print(f\"Predicted sum: {y_pred.item()}\")"
   ]
  },
  {
   "cell_type": "code",
   "execution_count": 12,
   "metadata": {},
   "outputs": [
    {
     "name": "stdout",
     "output_type": "stream",
     "text": [
      "The sum of 6.0 and 8.0 is: 14.000164985656738\n"
     ]
    }
   ],
   "source": [
    "# Test the network on a new input\n",
    "x1 = float(input(\"Enter the first number: \"))\n",
    "x2 = float(input(\"Enter the second number: \"))\n",
    "final_pred = net(torch.tensor(x1), torch.tensor(x2))\n",
    "print(\"The sum of\", x1, \"and\", x2, \"is:\", final_pred.item())"
   ]
  }
 ],
 "metadata": {
  "kernelspec": {
   "display_name": "Python 3",
   "language": "python",
   "name": "python3"
  },
  "language_info": {
   "codemirror_mode": {
    "name": "ipython",
    "version": 3
   },
   "file_extension": ".py",
   "mimetype": "text/x-python",
   "name": "python",
   "nbconvert_exporter": "python",
   "pygments_lexer": "ipython3",
   "version": "3.11.0"
  },
  "orig_nbformat": 4
 },
 "nbformat": 4,
 "nbformat_minor": 2
}
